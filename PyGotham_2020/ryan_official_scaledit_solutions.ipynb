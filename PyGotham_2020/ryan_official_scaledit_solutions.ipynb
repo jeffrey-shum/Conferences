{
 "cells": [
  {
   "cell_type": "markdown",
   "metadata": {},
   "source": [
    "## Memoization\n",
    "\n",
    "- Store previous results in dictionary\n",
    "- Fast dictionary lookups to save computational time"
   ]
  },
  {
   "cell_type": "code",
   "execution_count": 1,
   "metadata": {},
   "outputs": [],
   "source": [
    "n=1000000\n",
    "\n",
    "memo = {1: 1} \n",
    "\n",
    "def update_collatz(x):\n",
    "    if x%2==0:\n",
    "        return x/2\n",
    "    else:\n",
    "        return 3*x + 1\n",
    "\n",
    "longest_chain, starting_number = 1, 1\n",
    "\n",
    "for i in range(2,n):\n",
    "    \n",
    "    current_chain, current_start = 0, i\n",
    "    \n",
    "    while True:\n",
    "        \n",
    "        if i in memo:          \n",
    "            current_chain = current_chain + memo[i]\n",
    "            memo[current_start] = current_chain\n",
    "            if current_chain > longest_chain:\n",
    "                longest_chain, starting_number = current_chain, current_start\n",
    "            break\n",
    "            \n",
    "        else:\n",
    "            i = update_collatz(i)\n",
    "            current_chain += 1"
   ]
  },
  {
   "cell_type": "code",
   "execution_count": 2,
   "metadata": {},
   "outputs": [
    {
     "name": "stdout",
     "output_type": "stream",
     "text": [
      "Longest chain of size 525 found starting at 837799.\n"
     ]
    }
   ],
   "source": [
    "print(\n",
    "f\"Longest chain of size {longest_chain} found \\\n",
    "starting at {starting_number}.\"\n",
    ")"
   ]
  },
  {
   "cell_type": "markdown",
   "metadata": {},
   "source": [
    "Memoization dictionary contains the length of chain starting at any number under 1 million."
   ]
  },
  {
   "cell_type": "code",
   "execution_count": 3,
   "metadata": {},
   "outputs": [
    {
     "data": {
      "text/plain": [
       "1"
      ]
     },
     "execution_count": 3,
     "metadata": {},
     "output_type": "execute_result"
    }
   ],
   "source": [
    "memo[1]"
   ]
  },
  {
   "cell_type": "code",
   "execution_count": 4,
   "metadata": {},
   "outputs": [
    {
     "data": {
      "text/plain": [
       "10"
      ]
     },
     "execution_count": 4,
     "metadata": {},
     "output_type": "execute_result"
    }
   ],
   "source": [
    "memo[13]"
   ]
  },
  {
   "cell_type": "markdown",
   "metadata": {},
   "source": [
    "## BONUS - Add full chain to memoization dictionary"
   ]
  },
  {
   "cell_type": "code",
   "execution_count": 5,
   "metadata": {},
   "outputs": [],
   "source": [
    "n=1000000\n",
    "\n",
    "memo = {1: 1} \n",
    "\n",
    "def update_collatz(x):\n",
    "    if x%2==0:\n",
    "        return x/2\n",
    "    else:\n",
    "        return 3*x + 1\n",
    "\n",
    "longest_chain, starting_number = 1, 1\n",
    "\n",
    "for i in range(2,n):\n",
    "    \n",
    "    current_values = [i]\n",
    "    \n",
    "    while True:\n",
    "        \n",
    "        if i in memo:          \n",
    "            current_chain = len(current_values) - 1 + memo[i] \n",
    "            for pos, val in enumerate(current_values[:-1]):  #Add full chain to dictionary\n",
    "                memo[val] = current_chain - pos\n",
    "            if current_chain > longest_chain:\n",
    "                longest_chain, starting_number = current_chain, current_values[0]\n",
    "            break\n",
    "            \n",
    "        else:\n",
    "            i = update_collatz(i)\n",
    "            current_values.append(i)"
   ]
  },
  {
   "cell_type": "code",
   "execution_count": 6,
   "metadata": {},
   "outputs": [
    {
     "name": "stdout",
     "output_type": "stream",
     "text": [
      "Longest chain of size 525 found starting at 837799.\n"
     ]
    }
   ],
   "source": [
    "print(\n",
    "f\"Longest chain of size {longest_chain} found \\\n",
    "starting at {starting_number}.\"\n",
    ")"
   ]
  },
  {
   "cell_type": "code",
   "execution_count": 7,
   "metadata": {},
   "outputs": [
    {
     "data": {
      "text/plain": [
       "10"
      ]
     },
     "execution_count": 7,
     "metadata": {},
     "output_type": "execute_result"
    }
   ],
   "source": [
    "memo[13]"
   ]
  },
  {
   "cell_type": "code",
   "execution_count": null,
   "metadata": {},
   "outputs": [],
   "source": []
  }
 ],
 "metadata": {
  "kernelspec": {
   "display_name": "Python 3",
   "language": "python",
   "name": "python3"
  },
  "language_info": {
   "codemirror_mode": {
    "name": "ipython",
    "version": 3
   },
   "file_extension": ".py",
   "mimetype": "text/x-python",
   "name": "python",
   "nbconvert_exporter": "python",
   "pygments_lexer": "ipython3",
   "version": "3.7.2"
  }
 },
 "nbformat": 4,
 "nbformat_minor": 2
}
