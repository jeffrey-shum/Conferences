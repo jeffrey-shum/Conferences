{
 "cells": [
  {
   "cell_type": "markdown",
   "metadata": {},
   "source": [
    "## Loop up to Square Root\n",
    "\n",
    "This solution loops up to $\\sqrt N$ for both functions.  Since `largest_prime_factor` calls `check_prime` within its loop, this solution $\\sim \\mathcal{O}(N)$.\n",
    "\n",
    "**Note**: Solution was missing a colon in the `for` loop of `largest_prime_factor` in the PyGotham video."
   ]
  },
  {
   "cell_type": "code",
   "execution_count": 1,
   "metadata": {},
   "outputs": [],
   "source": [
    "def is_prime(n):    \n",
    "    for i in range(2,int(n**0.5)+1):\n",
    "        if n%i == 0:\n",
    "            return False\n",
    "    return True\n",
    "\n",
    "def largest_prime_factor(n):\n",
    "    candidate = n\n",
    "    for i in range(2, int(n**0.5)+1):\n",
    "        if n%i == 0:\n",
    "            if is_prime(n/i):    #n/i is the larger factor\n",
    "                return n/i\n",
    "            elif is_prime(i):\n",
    "                candidate = i      \n",
    "    return candidate"
   ]
  },
  {
   "cell_type": "code",
   "execution_count": 2,
   "metadata": {},
   "outputs": [
    {
     "data": {
      "text/plain": [
       "1291"
      ]
     },
     "execution_count": 2,
     "metadata": {},
     "output_type": "execute_result"
    }
   ],
   "source": [
    "largest_prime_factor(15857333635)"
   ]
  },
  {
   "cell_type": "markdown",
   "metadata": {},
   "source": [
    "## BONUS - Factorize on the Fly \n",
    "\n",
    "Any number can be broken down into a product of its prime factors. For example, <br> <br>\n",
    "$$100 = 2 \\cdot 2 \\cdot 5 \\cdot 5.$$  <br>\n",
    "So let's start with 2 and divide the number $N$ by 2 as long as it's divisible by 2. Then we move onto 3 and then 4 and... We will keep doing this until the number is not divisible anymore and then just print it. \n",
    "\n",
    "**There is no longer a reason to check for prime factors via this method.**  If a number is divisible by 4, say, we would have already divided it be 2 twice.  *The final number we are left with is inherently the largest prime factor.* \n",
    "\n",
    "This method results in a single loop that stops at $\\sqrt{N}$. So the complexity of this solution is $\\boldsymbol{\\mathcal{O}\\left(\\sqrt{N}\\right)}$ at worst."
   ]
  },
  {
   "cell_type": "code",
   "execution_count": 3,
   "metadata": {},
   "outputs": [],
   "source": [
    "import numpy as np"
   ]
  },
  {
   "cell_type": "code",
   "execution_count": 4,
   "metadata": {},
   "outputs": [],
   "source": [
    "def largest_prime_factor_factorize(n):\n",
    "    i = 2\n",
    "    while i <= n**0.5:       #Only need to go up to sqrt(n)\n",
    "        if n%i == 0:         #Check to see if i is a factor of n.  If i is, then divide by i.\n",
    "            n = n//i   \n",
    "            print(f'Found {i} as a factor! Now n equals {n}. So sqrt(n) is roughly {np.sqrt(n):.2f}.\\n')\n",
    "        else:\n",
    "            i += 1           #If i is no longer a factor, move onto the next number\n",
    "    return n               #Return whatever we are left with: the largest prime factor!"
   ]
  },
  {
   "cell_type": "code",
   "execution_count": 5,
   "metadata": {},
   "outputs": [
    {
     "name": "stdout",
     "output_type": "stream",
     "text": [
      "Found 5 as a factor! Now n equals 3171466727. So sqrt(n) is roughly 56315.78.\n",
      "\n",
      "Found 11 as a factor! Now n equals 288315157. So sqrt(n) is roughly 16979.85.\n",
      "\n",
      "Found 13 as a factor! Now n equals 22178089. So sqrt(n) is roughly 4709.36.\n",
      "\n",
      "Found 41 as a factor! Now n equals 540929. So sqrt(n) is roughly 735.48.\n",
      "\n",
      "Found 419 as a factor! Now n equals 1291. So sqrt(n) is roughly 35.93.\n",
      "\n"
     ]
    },
    {
     "data": {
      "text/plain": [
       "1291"
      ]
     },
     "execution_count": 5,
     "metadata": {},
     "output_type": "execute_result"
    }
   ],
   "source": [
    "largest_prime_factor_factorize(15857333635)"
   ]
  },
  {
   "cell_type": "code",
   "execution_count": null,
   "metadata": {},
   "outputs": [],
   "source": []
  }
 ],
 "metadata": {
  "kernelspec": {
   "display_name": "Python 3",
   "language": "python",
   "name": "python3"
  },
  "language_info": {
   "codemirror_mode": {
    "name": "ipython",
    "version": 3
   },
   "file_extension": ".py",
   "mimetype": "text/x-python",
   "name": "python",
   "nbconvert_exporter": "python",
   "pygments_lexer": "ipython3",
   "version": "3.7.2"
  }
 },
 "nbformat": 4,
 "nbformat_minor": 2
}
