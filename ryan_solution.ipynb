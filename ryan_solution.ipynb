{
 "cells": [
  {
   "cell_type": "markdown",
   "metadata": {},
   "source": [
    "# Scaled It, Yeah!"
   ]
  },
  {
   "cell_type": "code",
   "execution_count": 1,
   "metadata": {},
   "outputs": [
    {
     "name": "stdout",
     "output_type": "stream",
     "text": [
      "[1, 4, 2.0, 1.0, 4.0, 2.0, 1.0, 4.0, 2.0, 1.0, 4.0]\n"
     ]
    }
   ],
   "source": [
    "hugest_chain = []\n",
    "\n",
    "for i in range(1, 1000001): \n",
    "    chain = [i]\n",
    "    while True:\n",
    "        if i%2==0:\n",
    "            i = i/2\n",
    "        else:\n",
    "            i = 3*i + 1\n",
    "        chain.append(i)\n",
    "        \n",
    "        if len(chain) > 10:  #Saving you from Ryan's infinite loop!\n",
    "            break\n",
    "            \n",
    "    if len(chain) > len(hugest_chain):\n",
    "        hugest_chain = chain\n",
    "\n",
    "print(hugest_chain)"
   ]
  },
  {
   "cell_type": "code",
   "execution_count": null,
   "metadata": {},
   "outputs": [],
   "source": []
  }
 ],
 "metadata": {
  "kernelspec": {
   "display_name": "Python 3",
   "language": "python",
   "name": "python3"
  },
  "language_info": {
   "codemirror_mode": {
    "name": "ipython",
    "version": 3
   },
   "file_extension": ".py",
   "mimetype": "text/x-python",
   "name": "python",
   "nbconvert_exporter": "python",
   "pygments_lexer": "ipython3",
   "version": "3.7.2"
  }
 },
 "nbformat": 4,
 "nbformat_minor": 2
}
